{
  "nbformat": 4,
  "nbformat_minor": 0,
  "metadata": {
    "colab": {
      "provenance": [],
      "authorship_tag": "ABX9TyOdct+5vEBaz8PEixJ+iwlH",
      "include_colab_link": true
    },
    "kernelspec": {
      "name": "python3",
      "display_name": "Python 3"
    },
    "language_info": {
      "name": "python"
    }
  },
  "cells": [
    {
      "cell_type": "markdown",
      "metadata": {
        "id": "view-in-github",
        "colab_type": "text"
      },
      "source": [
        "<a href=\"https://colab.research.google.com/github/mynemeisitalo/Sales-Strategy/blob/main/PDFmarge.ipynb\" target=\"_parent\"><img src=\"https://colab.research.google.com/assets/colab-badge.svg\" alt=\"Open In Colab\"/></a>"
      ]
    },
    {
      "cell_type": "code",
      "execution_count": 1,
      "metadata": {
        "colab": {
          "base_uri": "https://localhost:8080/"
        },
        "id": "6-tkCOl1xqcO",
        "outputId": "dc0c2d85-0d97-45c4-823e-ac35964656e5"
      },
      "outputs": [
        {
          "output_type": "stream",
          "name": "stdout",
          "text": [
            "Collecting PyPDF2\n",
            "  Downloading pypdf2-3.0.1-py3-none-any.whl (232 kB)\n",
            "\u001b[2K     \u001b[90m━━━━━━━━━━━━━━━━━━━━━━━━━━━━━━━━━━━━━━━━\u001b[0m \u001b[32m232.6/232.6 kB\u001b[0m \u001b[31m2.1 MB/s\u001b[0m eta \u001b[36m0:00:00\u001b[0m\n",
            "\u001b[?25hInstalling collected packages: PyPDF2\n",
            "Successfully installed PyPDF2-3.0.1\n"
          ]
        }
      ],
      "source": [
        "pip install PyPDF2"
      ]
    },
    {
      "cell_type": "code",
      "source": [
        "import os\n",
        "import re\n",
        "import PyPDF2\n",
        "\n",
        "# PDFファイルがアップロードされているディレクトリ\n",
        "pdf_dir = '/content/'\n",
        "\n",
        "# ディレクトリ内の全てのPDFファイルを取得\n",
        "pdf_files = [f for f in os.listdir(pdf_dir) if f.endswith('.pdf') and re.match(r'^\\d+', f)]\n",
        "\n",
        "# ファイル名の先頭にある数字でソート\n",
        "pdf_files.sort(key=lambda x: int(re.match(r'^\\d+', x).group()))\n",
        "\n",
        "# フルパスを取得\n",
        "pdf_files = [os.path.join(pdf_dir, f) for f in pdf_files]\n",
        "\n",
        "# PDFファイルを結合する\n",
        "pdf_writer = PyPDF2.PdfWriter()\n",
        "\n",
        "for file in pdf_files:\n",
        "    pdf_reader = PyPDF2.PdfReader(file)\n",
        "    for page_num in range(len(pdf_reader.pages)):\n",
        "        page = pdf_reader.pages[page_num]\n",
        "        pdf_writer.add_page(page)\n",
        "\n",
        "# 結合したPDFを保存する\n",
        "output_path = '/content/merged_output.pdf'\n",
        "with open(output_path, 'wb') as output_pdf:\n",
        "    pdf_writer.write(output_pdf)\n",
        "\n",
        "print(f'結合したPDFファイルは {output_path} に保存されました。')\n"
      ],
      "metadata": {
        "colab": {
          "base_uri": "https://localhost:8080/"
        },
        "id": "gY9H7NYMzrkQ",
        "outputId": "60481ad2-211d-4e66-d51e-1164ee995d56"
      },
      "execution_count": 6,
      "outputs": [
        {
          "output_type": "stream",
          "name": "stdout",
          "text": [
            "結合したPDFファイルは /content/merged_output.pdf に保存されました。\n"
          ]
        }
      ]
    }
  ]
}